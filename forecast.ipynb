{
 "cells": [
  {
   "cell_type": "markdown",
   "id": "5894a525",
   "metadata": {},
   "source": [
    "# Modelling the UK's Long-term Gas Demand"
   ]
  },
  {
   "cell_type": "markdown",
   "id": "7b169a23",
   "metadata": {},
   "source": []
  }
 ],
 "metadata": {
  "language_info": {
   "name": "python"
  }
 },
 "nbformat": 4,
 "nbformat_minor": 5
}
